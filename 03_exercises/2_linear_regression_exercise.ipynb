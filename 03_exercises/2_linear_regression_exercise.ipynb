{
 "cells": [
  {
   "cell_type": "markdown",
   "id": "dd7c50c1-ffb3-40f1-aed2-fb18b05aaa1c",
   "metadata": {},
   "source": [
    "# 2: Linear Regression Exercises"
   ]
  },
  {
   "cell_type": "markdown",
   "id": "63cf6041-c737-4f73-950a-4d43daa13adb",
   "metadata": {},
   "source": [
    "### Getting Started\n",
    "#### Import Libraries \n",
    "We import our standard libraries and specific objects/libraries at the top level of our notebook. By adding only specific objects from key modules, such as `statmodels`, we keep our *namespace* more organized. "
   ]
  },
  {
   "cell_type": "code",
   "execution_count": null,
   "id": "e4a6ede7-9f6e-4053-aa35-b7927ea3964f",
   "metadata": {},
   "outputs": [],
   "source": [
    "# Import libraries and objects\n",
    "import numpy as np\n",
    "import pandas as pd\n",
    "import statsmodels.api as sm\n",
    "import matplotlib.pyplot as plt\n",
    "import warnings # for muting warning messages\n",
    "# mute warning messages\n",
    "warnings.filterwarnings('ignore')\n",
    "from sklearn.linear_model import LinearRegression\n",
    "from ISLP import load_data\n",
    "from ISLP.models import summarize"
   ]
  },
  {
   "cell_type": "markdown",
   "id": "afdd9bd1-62b5-4b83-9e22-2ef1f9800083",
   "metadata": {},
   "source": [
    "Let's take a look at the `Boston` data set"
   ]
  },
  {
   "cell_type": "code",
   "execution_count": null,
   "id": "79406cd6-14de-4318-b711-cbe6e0c5c8bd",
   "metadata": {},
   "outputs": [],
   "source": [
    "# Load the \"Boston\" dataset using the \"load_data\" function from the ISLP package\n",
    "Boston = load_data('Boston')\n",
    "Boston"
   ]
  },
  {
   "cell_type": "markdown",
   "id": "6508f966-1f84-4d29-b91d-c3713a857bab",
   "metadata": {},
   "source": [
    "Hint: Type `Boston?` to find out more about the dataset."
   ]
  },
  {
   "cell_type": "markdown",
   "id": "67889cb8-cd67-4fe1-8f21-1ceaf4f4f3fe",
   "metadata": {},
   "source": [
    "## Simple Linear Regression\n",
    "\n",
    "In this section we will construct model matrices (also called design matrices) using the `ModelSpec()` transform from `ISLP.models`. \n",
    "\n",
    "We will use the `Boston` housing data set, which is part of the `ISLP` package. We will build a regression model to predict `medv` using 13 predictors such as `rmvar` (average number of rooms per house), `age` (proportion of owner-occupied units built prior to 1940), and `lstat` (percent of households with low socioeconomic status). We will use the `statsmodels` package, which allows us to implement several commonly used regression methods."
   ]
  },
  {
   "cell_type": "markdown",
   "id": "b37d54ee-4416-46d5-b361-99da9fa6612a",
   "metadata": {},
   "source": [
    "To start, we use the `sm.OLS()` function to fit a simple linear regression model. Our response will be `medv` (Y) and `rm` (X) will be the single predictor. For this model, we can create the model matrix by hand."
   ]
  },
  {
   "cell_type": "code",
   "execution_count": null,
   "id": "73e72302-4ca5-4017-8813-69acb3de6035",
   "metadata": {},
   "outputs": [],
   "source": [
    "# Create the model matrix by hand\n",
    "X = pd.DataFrame({'intercept': np.ones(Boston.shape[0]),\n",
    "                  'rm': Boston['rm']})\n",
    "X[:4]"
   ]
  },
  {
   "cell_type": "markdown",
   "id": "39515e24-986c-4a76-b403-8f25fe1c3a7b",
   "metadata": {},
   "source": [
    "We then extract the response and fit the model."
   ]
  },
  {
   "cell_type": "code",
   "execution_count": null,
   "id": "b6367fab-d909-46d0-9730-6239d97840c3",
   "metadata": {},
   "outputs": [],
   "source": [
    "# Extract the response and fit the model\n",
    "y = Boston['medv']\n",
    "model = sm.OLS(y, X) # to specify the model\n",
    "results = model.fit() # to fit the model"
   ]
  },
  {
   "cell_type": "markdown",
   "id": "67e581a4-b9f2-4e59-946d-dbc057e9d05c",
   "metadata": {},
   "source": [
    "**Note**: `sm.OLS()` does not fit the model; it specifies the model. `model.fit()` does the actual fitting.\n",
    "\n",
    "The `ISLP` function `summarize()` produces a simple table of the parameter estimates, their standard errors, t-statistics and p-values. The function takes a single argument, such as the object `results` returned here by the `fit` method, and returns such a summary."
   ]
  },
  {
   "cell_type": "code",
   "execution_count": null,
   "id": "dc9f10a8",
   "metadata": {},
   "outputs": [],
   "source": [
    "# Summarize results\n",
    "summarize(results)"
   ]
  },
  {
   "cell_type": "markdown",
   "id": "9e5ec5b5-5aa1-4fa9-99d0-98e4d145add3",
   "metadata": {},
   "source": [
    "The output tells us that ˆβ0 = −34.6706 and ˆβ1 = 9.1021"
   ]
  },
  {
   "cell_type": "code",
   "execution_count": null,
   "id": "3c0b78bb-411d-4a86-a7da-917b77405f2e",
   "metadata": {},
   "outputs": [],
   "source": [
    "results.summary()"
   ]
  },
  {
   "cell_type": "markdown",
   "id": "d1507eef-dc02-4c1c-853b-fa0c0dd9323c",
   "metadata": {},
   "source": [
    "The fitted coefficients can also be retrieved as the params attribute of results."
   ]
  },
  {
   "cell_type": "code",
   "execution_count": null,
   "id": "1fe415fa-70b6-4b6a-8487-2c7b0031d920",
   "metadata": {},
   "outputs": [],
   "source": [
    "coefficients = results.params\n",
    "print(coefficients)"
   ]
  },
  {
   "cell_type": "markdown",
   "id": "fd030bc3-27e3-44e3-8cd4-73d4e098a00d",
   "metadata": {},
   "source": [
    "To compute the 95% confidence intervals for the regression coefficient estimates based on the standard errors:"
   ]
  },
  {
   "cell_type": "code",
   "execution_count": null,
   "id": "d669c318-3289-4aed-9a6d-155c30aacaa7",
   "metadata": {},
   "outputs": [],
   "source": [
    "# Get confidence intervals for coefficients\n",
    "conf_intervals = results.conf_int()\n",
    "\n",
    "# Print the confidence intervals\n",
    "print(\"Confidence Intervals for Coefficients:\")\n",
    "print(conf_intervals)"
   ]
  },
  {
   "cell_type": "markdown",
   "id": "91c46f11-e605-4c92-abfd-aa09f2cac23f",
   "metadata": {},
   "source": [
    "We can also find the RSE and $R^2$ statistic in the summary of the linear regression model."
   ]
  },
  {
   "cell_type": "code",
   "execution_count": null,
   "id": "a581edce-ad34-4040-ad21-bd1021832c0d",
   "metadata": {},
   "outputs": [],
   "source": [
    "print(results.summary())"
   ]
  },
  {
   "cell_type": "markdown",
   "id": "d9c4036d-5810-4692-bc58-626ea7f7c08f",
   "metadata": {},
   "source": [
    "From the $R^2$ statistic we can see that some of the variation in `medv` is explained by `rm` but a lot of it is not. This might be an indication that there are other variables in the data set that are affecting the response."
   ]
  },
  {
   "cell_type": "code",
   "execution_count": 1,
   "id": "6d363338-6e3c-4824-89b0-219f507506eb",
   "metadata": {},
   "outputs": [
    {
     "ename": "NameError",
     "evalue": "name 'Boston' is not defined",
     "output_type": "error",
     "traceback": [
      "\u001b[1;31m---------------------------------------------------------------------------\u001b[0m",
      "\u001b[1;31mNameError\u001b[0m                                 Traceback (most recent call last)",
      "Cell \u001b[1;32mIn[1], line 2\u001b[0m\n\u001b[0;32m      1\u001b[0m \u001b[38;5;66;03m# Extracting 'medv' and 'rm' columns from the dataset\u001b[39;00m\n\u001b[1;32m----> 2\u001b[0m medv \u001b[38;5;241m=\u001b[39m \u001b[43mBoston\u001b[49m[\u001b[38;5;124m'\u001b[39m\u001b[38;5;124mmedv\u001b[39m\u001b[38;5;124m'\u001b[39m]\n\u001b[0;32m      3\u001b[0m rm \u001b[38;5;241m=\u001b[39m Boston[\u001b[38;5;124m'\u001b[39m\u001b[38;5;124mrm\u001b[39m\u001b[38;5;124m'\u001b[39m]\n\u001b[0;32m      5\u001b[0m \u001b[38;5;66;03m# Reshape 'rm' to a 2D array for LinearRegression\u001b[39;00m\n",
      "\u001b[1;31mNameError\u001b[0m: name 'Boston' is not defined"
     ]
    }
   ],
   "source": [
    "# Extracting 'medv' and 'rm' columns from the dataset\n",
    "medv = Boston['medv']\n",
    "rm = Boston['rm']\n",
    "\n",
    "# Reshape 'rm' to a 2D array for LinearRegression\n",
    "rm_reshaped = rm.values.reshape(-1, 1)\n",
    "\n",
    "# Fit a linear regression model\n",
    "lm_medv_rm = LinearRegression()\n",
    "lm_medv_rm.fit(rm_reshaped, medv)\n",
    "\n",
    "# Plot 'medv' against 'rm'\n",
    "plt.scatter(rm, medv, label='Data')\n",
    "plt.xlabel('rm')\n",
    "plt.ylabel('medv')\n",
    "\n",
    "# Plot the regression line\n",
    "plt.plot(rm, lm_medv_rm.predict(rm_reshaped), color='red', linewidth=2, label='Regression Line')\n",
    "\n",
    "plt.legend()\n",
    "plt.show()"
   ]
  },
  {
   "cell_type": "markdown",
   "id": "7bc2a43a-24bd-44bd-b141-a82cb76e1a3f",
   "metadata": {},
   "source": [
    "*These exercises were adapted from :* James, Gareth, et al. An Introduction to Statistical Learning: with Applications in Python, Springer, 2023."
   ]
  }
 ],
 "metadata": {
  "kernelspec": {
   "display_name": "Python 3.10.4",
   "language": "python",
   "name": "python3"
  },
  "language_info": {
   "codemirror_mode": {
    "name": "ipython",
    "version": 3
   },
   "file_extension": ".py",
   "mimetype": "text/x-python",
   "name": "python",
   "nbconvert_exporter": "python",
   "pygments_lexer": "ipython3",
   "version": "3.9.7"
  },
  "vscode": {
   "interpreter": {
    "hash": "497a84dc8fec8cf8d24e7e87b6d954c9a18a327edc66feb9b9ea7e9e72cc5c7e"
   }
  }
 },
 "nbformat": 4,
 "nbformat_minor": 5
}
